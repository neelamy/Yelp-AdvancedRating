{
 "cells": [
  {
   "cell_type": "code",
   "execution_count": 1,
   "metadata": {
    "collapsed": true,
    "scrolled": true
   },
   "outputs": [],
   "source": [
    "positive_words = set()\n",
    "with open(\"data/positive-words.txt\",\"r\",encoding=\"ISO-8859-1\") as file:\n",
    "    positive_words = set(map(lambda x: x.strip(), file.readlines())) \n",
    "        \n",
    "negative_words = set()\n",
    "with open(\"data/negative-words.txt\",\"r\",encoding=\"ISO-8859-1\") as file:\n",
    "    negative_words = set(map(lambda x: x.strip(), file.readlines())) "
   ]
  },
  {
   "cell_type": "code",
   "execution_count": 2,
   "metadata": {
    "collapsed": true
   },
   "outputs": [],
   "source": [
    "from itertools import islice\n",
    "\n",
    "import numpy as np\n",
    "import pandas as pd\n",
    "import json\n",
    "import nltk\n",
    "from nltk.stem import WordNetLemmatizer"
   ]
  },
  {
   "cell_type": "code",
   "execution_count": 3,
   "metadata": {
    "collapsed": true
   },
   "outputs": [],
   "source": [
    "def negate_sequence(words):\n",
    "    negation = False\n",
    "    delims = \"?.,!:;\"\n",
    "    result = []\n",
    "    for word in words:\n",
    "        stripped = word.strip(delims)\n",
    "        negated = stripped\n",
    "        if negation:\n",
    "            if stripped==\"GOOD\":\n",
    "                negated = \"BAD\"\n",
    "            elif stripped==\"BAD\":\n",
    "                negated = \"GOOD\"\n",
    "\n",
    "        if any(neg in word for neg in [\"not\", \"n't\", \"no\",\"never\"]):\n",
    "            negation = not negation\n",
    "        else:\n",
    "            result.append(negated)\n",
    "\n",
    "        if any(c in word for c in delims):\n",
    "            negation = False\n",
    "\n",
    "    return [x for x in result if len(x)>0]"
   ]
  },
  {
   "cell_type": "code",
   "execution_count": 4,
   "metadata": {
    "collapsed": true
   },
   "outputs": [],
   "source": [
    "def lemmatize_stem(text):\n",
    "    stemmer = nltk.stem.SnowballStemmer('english')\n",
    "    lemma = WordNetLemmatizer().lemmatize(text, pos='v')\n",
    "    return lemma \n",
    "\n",
    "allowed_pos = set([\"NN\",\"NNP\",\"NNS\",\"NNPS\"])\n",
    "allowed_words = set([\"GOOD\",\"BAD\"])\n",
    "\n",
    "def replace_sentiments(text):\n",
    "    results = []\n",
    "    tokens = nltk.word_tokenize(text)\n",
    "    for x in tokens:\n",
    "        x = x.lower()\n",
    "        if x in positive_words:\n",
    "            x=\"GOOD\"\n",
    "        elif x in negative_words:\n",
    "            x=\"BAD\"\n",
    "        results.append(x)\n",
    "    results = negate_sequence(results)\n",
    "    \n",
    "    tagged = nltk.pos_tag(results)\n",
    "    nouns = [word for word,pos in tagged \\\n",
    "            if (pos in allowed_pos or word in allowed_words)]\n",
    "    results = [lemmatize_stem(x) for x in nouns]\n",
    "    #results = list(filter(lambda x: len(x)>1 , results))\n",
    "    \n",
    "    return \" \".join(results)# if len(results)>1 else \"\""
   ]
  },
  {
   "cell_type": "code",
   "execution_count": 5,
   "metadata": {
    "collapsed": true
   },
   "outputs": [],
   "source": [
    "def filter_sentiment(text):\n",
    "    if len(text)>1:\n",
    "        if \"GOOD\" in text or \"BAD\" in text:\n",
    "            return True\n",
    "    return False\n",
    "\n",
    "def map_sentiments(data):\n",
    "    data = json.loads(data)\n",
    "    text = data[\"text\"].split(\".\")\n",
    "    #data[\"text\"] = text\n",
    "    sentiments = [replace_sentiments(t) for t in text]\n",
    "    #sentiments = list(filter(filter_sentiment , sentiments))\n",
    "    ratings = list(map(getTag,sentiments))\n",
    "    data[\"text\"] = list(zip(text,ratings))\n",
    "    data[\"tags\"] = ratings\n",
    "    return data"
   ]
  },
  {
   "cell_type": "code",
   "execution_count": 6,
   "metadata": {
    "collapsed": true
   },
   "outputs": [],
   "source": [
    "from collections import Counter\n",
    "def getTag(text):\n",
    "    c = Counter(text.split(\" \"))\n",
    "    good = c.get(\"GOOD\",0.01)\n",
    "    bad = c.get(\"BAD\", 0.01)\n",
    "    rate = good/bad\n",
    "    if rate<1:\n",
    "        return 1\n",
    "    if rate==1:\n",
    "        return 2\n",
    "    return 3"
   ]
  },
  {
   "cell_type": "code",
   "execution_count": 8,
   "metadata": {
    "collapsed": true
   },
   "outputs": [],
   "source": [
    "file = 'restaurant_review.json'\n",
    "with open(file,encoding=\"utf-8\") as f:\n",
    "    data = [next(f).strip() for x in range(1000)]\n",
    "\n",
    "\n",
    "processed_docs = list(map(map_sentiments, data[:300]))\n",
    "\n",
    "with open(\"tags_auto.txt\", \"a\", encoding=\"utf-8\") as o:\n",
    "    for x in processed_docs:\n",
    "        o.write(json.dumps({\"review_id\":x[\"review_id\"],\"tags\":x[\"tags\"]}) + \"\\n\")"
   ]
  },
  {
   "cell_type": "code",
   "execution_count": null,
   "metadata": {
    "collapsed": true
   },
   "outputs": [],
   "source": []
  }
 ],
 "metadata": {
  "kernelspec": {
   "display_name": "Python 3",
   "language": "python",
   "name": "python3"
  },
  "language_info": {
   "codemirror_mode": {
    "name": "ipython",
    "version": 3
   },
   "file_extension": ".py",
   "mimetype": "text/x-python",
   "name": "python",
   "nbconvert_exporter": "python",
   "pygments_lexer": "ipython3",
   "version": "3.6.2"
  }
 },
 "nbformat": 4,
 "nbformat_minor": 2
}
