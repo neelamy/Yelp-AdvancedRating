{
 "cells": [
  {
   "cell_type": "code",
   "execution_count": 1,
   "metadata": {
    "collapsed": true
   },
   "outputs": [],
   "source": [
    "import json\n",
    "\n",
    "from sklearn.feature_extraction.text import TfidfVectorizer, CountVectorizer\n",
    "from sklearn.decomposition import NMF\n",
    "import numpy as np"
   ]
  },
  {
   "cell_type": "code",
   "execution_count": 2,
   "metadata": {
    "collapsed": true
   },
   "outputs": [],
   "source": [
    "def display_topics(H, W, feature_names, documents, no_top_words, no_top_documents):\n",
    "    for topic_idx, topic in enumerate(H):\n",
    "        print(\"Topic %d:\" % (topic_idx))\n",
    "        print(\" \".join([feature_names[i]\n",
    "                        for i in topic.argsort()[:-no_top_words - 1:-1]]))\n",
    "        top_doc_indices = np.argsort( W[:,topic_idx] )[::-1][0:no_top_documents]\n",
    "#         for doc_index in top_doc_indices:\n",
    "#             print documents[doc_index]"
   ]
  },
  {
   "cell_type": "markdown",
   "metadata": {},
   "source": [
    "## Generate topics"
   ]
  },
  {
   "cell_type": "code",
   "execution_count": 3,
   "metadata": {
    "scrolled": true
   },
   "outputs": [
    {
     "name": "stdout",
     "output_type": "stream",
     "text": [
      "Topic 0:\n",
      "great service friendly staff atmosphere customer experience excellent price nice\n",
      "Topic 1:\n",
      "place love recommend like really try amaze highly awesome nice\n",
      "Topic 2:\n",
      "good really service pretty price taste pizza overall fry portion\n",
      "Topic 3:\n",
      "food delicious amaze excellent price fresh quality best ok awesome\n",
      "Topic 4:\n",
      "time come order definitely try wait just like eat make\n"
     ]
    }
   ],
   "source": [
    "file = 'processed_reviews.json'\n",
    "with open(file) as f:\n",
    "    head = [json.loads(next(f)) for x in range(100000)]\n",
    "    \n",
    "documents = []\n",
    "for i in head:\n",
    "    documents.extend(i['text'].split('.'))\n",
    "\n",
    "# NMF is able to use tf-idf\n",
    "tfidf_vectorizer = TfidfVectorizer(max_df=0.95, min_df=2, stop_words='english')\n",
    "tfidf = tfidf_vectorizer.fit_transform(documents)\n",
    "tfidf_feature_names = tfidf_vectorizer.get_feature_names()\n",
    "\n",
    "no_topics = 5\n",
    "\n",
    "# Run NMF\n",
    "nmf_model = NMF(n_components=no_topics, random_state=1, alpha=.1, l1_ratio=.5, init='nndsvd').fit(tfidf)\n",
    "nmf_W = nmf_model.transform(tfidf)\n",
    "nmf_H = nmf_model.components_\n",
    "\n",
    "no_top_words = 10\n",
    "no_top_documents = 10\n",
    "display_topics(nmf_H, nmf_W, tfidf_feature_names, documents, no_top_words, no_top_documents)"
   ]
  },
  {
   "cell_type": "markdown",
   "metadata": {},
   "source": [
    "## Topic distribution"
   ]
  },
  {
   "cell_type": "code",
   "execution_count": 4,
   "metadata": {
    "collapsed": true
   },
   "outputs": [],
   "source": [
    "import matplotlib.pyplot as plt\n",
    "\n",
    "topics = {}\n",
    "\n",
    "test_documents = documents[:10000]\n",
    "\n",
    "for document in test_documents:\n",
    "    for sentence in document.split('.'):\n",
    "        sentence = sentence.strip()\n",
    "        if sentence:\n",
    "            sentence_topics = nmf_model.transform(tfidf_vectorizer.transform([document]))\n",
    "            # get top topic\n",
    "            top_topic = 0\n",
    "            top_topic_val = float('-inf')\n",
    "            for topic, topic_val in enumerate(sentence_topics[0]):\n",
    "                if (topic_val > top_topic_val) and (topic != 4):\n",
    "                        top_topic_val = topic_val\n",
    "                        top_topic = topic\n",
    "#            top_topic = sentence_topics[0].argmax(axis=0)\n",
    "            if top_topic in topics:\n",
    "                topics[top_topic].append(sentence)\n",
    "            else:\n",
    "                topics[top_topic] = [sentence]"
   ]
  },
  {
   "cell_type": "code",
   "execution_count": 5,
   "metadata": {},
   "outputs": [
    {
     "name": "stdout",
     "output_type": "stream",
     "text": [
      "{2: 1862, 3: 2142, 0: 3332, 1: 2634}\n",
      "{2: 18.62, 3: 21.42, 0: 33.32, 1: 26.340000000000003}\n"
     ]
    },
    {
     "data": {
      "image/png": "[encoded data removed]",
      "text/plain": [
       "<matplotlib.figure.Figure at 0x162827412b0>"
      ]
     },
     "metadata": {},
     "output_type": "display_data"
    },
    {
     "data": {
      "image/png": "[encoded data removed]",
      "text/plain": [
       "<matplotlib.figure.Figure at 0x162828af7f0>"
      ]
     },
     "metadata": {},
     "output_type": "display_data"
    }
   ],
   "source": [
    "# topics and sentences counts\n",
    "topic_counts = {topic: len(sentences) for topic, sentences in topics.items()}\n",
    "print (topic_counts)\n",
    "\n",
    "# topics and sentences perecentages\n",
    "topic_percentages = {topic: (len(sentences) * 1.0 / len(test_documents) * 100) for topic, sentences in topics.items()}\n",
    "print (topic_percentages)\n",
    "\n",
    "# plot topics and sentence counts\n",
    "plt.bar(range(len(topic_counts)), topic_counts.values(), align='center')\n",
    "plt.xticks(range(len(topic_counts)), topic_counts.keys())\n",
    "plt.show()\n",
    "\n",
    "# plot topics and percentages\n",
    "# Data to plot\n",
    "labels = topic_percentages.keys()\n",
    "sizes = list(topic_percentages.values())\n",
    "plt.pie(sizes, labels=labels, startangle=90, autopct='%.1f%%')\n",
    "plt.title('Topic Distribution')\n",
    "plt.show()"
   ]
  },
  {
   "cell_type": "markdown",
   "metadata": {},
   "source": [
    "## Dump and predictions tests"
   ]
  },
  {
   "cell_type": "code",
   "execution_count": 6,
   "metadata": {},
   "outputs": [
    {
     "data": {
      "text/plain": [
       "['nmf_model.joblib']"
      ]
     },
     "execution_count": 6,
     "metadata": {},
     "output_type": "execute_result"
    }
   ],
   "source": [
    "from sklearn.externals import joblib\n",
    "joblib.dump(nmf_model, 'nmf_model.joblib') "
   ]
  },
  {
   "cell_type": "code",
   "execution_count": 7,
   "metadata": {
    "collapsed": true
   },
   "outputs": [],
   "source": [
    "clf = joblib.load('nmf_model.joblib') "
   ]
  },
  {
   "cell_type": "code",
   "execution_count": 8,
   "metadata": {},
   "outputs": [
    {
     "data": {
      "text/plain": [
       "array([[ 0.02246671,  0.        ,  0.0002564 ,  0.        ,  0.00088919]])"
      ]
     },
     "execution_count": 8,
     "metadata": {},
     "output_type": "execute_result"
    }
   ],
   "source": [
    "clf.transform(tfidf_vectorizer.transform(['the staff is very friendly great service so attentive']))"
   ]
  },
  {
   "cell_type": "code",
   "execution_count": 9,
   "metadata": {},
   "outputs": [
    {
     "data": {
      "text/plain": [
       "array([[ 0.02246671,  0.        ,  0.0002564 ,  0.        ,  0.00088919]])"
      ]
     },
     "execution_count": 9,
     "metadata": {},
     "output_type": "execute_result"
    }
   ],
   "source": [
    "nmf_model.transform(tfidf_vectorizer.transform(['the staff is very friendly great service so attentive']))"
   ]
  },
  {
   "cell_type": "code",
   "execution_count": 10,
   "metadata": {},
   "outputs": [
    {
     "data": {
      "text/plain": [
       "array([[ 0.        ,  0.00995166,  0.00061466,  0.        ,  0.00162527]])"
      ]
     },
     "execution_count": 10,
     "metadata": {},
     "output_type": "execute_result"
    }
   ],
   "source": [
    "nmf_model.transform(tfidf_vectorizer.transform(['i love the chicken pizza']))"
   ]
  },
  {
   "cell_type": "code",
   "execution_count": 11,
   "metadata": {},
   "outputs": [
    {
     "data": {
      "text/plain": [
       "array([[ 0.        ,  0.0007768 ,  0.00074969,  0.        ,  0.00467051]])"
      ]
     },
     "execution_count": 11,
     "metadata": {},
     "output_type": "execute_result"
    }
   ],
   "source": [
    "nmf_model.transform(tfidf_vectorizer.transform(['i like the chicken pizza']))"
   ]
  },
  {
   "cell_type": "code",
   "execution_count": 12,
   "metadata": {},
   "outputs": [
    {
     "data": {
      "text/plain": [
       "array([[ 0.00022711,  0.00022009,  0.00034331,  0.00123804,  0.00248664]])"
      ]
     },
     "execution_count": 12,
     "metadata": {},
     "output_type": "execute_result"
    }
   ],
   "source": [
    "nmf_model.transform(tfidf_vectorizer.transform(['they have fresh sushi that you can have with any drink']))"
   ]
  },
  {
   "cell_type": "code",
   "execution_count": 15,
   "metadata": {},
   "outputs": [
    {
     "data": {
      "text/plain": [
       "array([[ 0.00011222,  0.        ,  0.00039899,  0.00032327,  0.00060412]])"
      ]
     },
     "execution_count": 15,
     "metadata": {},
     "output_type": "execute_result"
    }
   ],
   "source": [
    "nmf_model.transform(tfidf_vectorizer.transform(['The servings and portion are huge and true value for money.']))"
   ]
  },
  {
   "cell_type": "code",
   "execution_count": null,
   "metadata": {
    "collapsed": true
   },
   "outputs": [],
   "source": []
  }
 ],
 "metadata": {
  "kernelspec": {
   "display_name": "Python 3",
   "language": "python",
   "name": "python3"
  },
  "language_info": {
   "codemirror_mode": {
    "name": "ipython",
    "version": 3
   },
   "file_extension": ".py",
   "mimetype": "text/x-python",
   "name": "python",
   "nbconvert_exporter": "python",
   "pygments_lexer": "ipython3",
   "version": "3.6.2"
  }
 },
 "nbformat": 4,
 "nbformat_minor": 2
}
